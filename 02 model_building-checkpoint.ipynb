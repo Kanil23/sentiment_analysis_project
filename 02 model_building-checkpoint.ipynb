{
 "cells": [
  {
   "cell_type": "code",
   "execution_count": 1,
   "id": "eca3846b-265a-4b90-a38d-1e5c3c06721f",
   "metadata": {},
   "outputs": [],
   "source": [
    "import numpy as np\n",
    "import pandas as pd\n",
    "import matplotlib.pyplot as plt"
   ]
  },
  {
   "cell_type": "code",
   "execution_count": 2,
   "id": "1cac80f4-cfb0-417d-a223-acb75e2548cf",
   "metadata": {},
   "outputs": [],
   "source": [
    "data = pd.read_csv('../artifacts/sentiment_analysis.csv')"
   ]
  },
  {
   "cell_type": "code",
   "execution_count": 7,
   "id": "ef3c6055-0351-4727-babd-bfceb94b0772",
   "metadata": {},
   "outputs": [
    {
     "data": {
      "text/html": [
       "<div>\n",
       "<style scoped>\n",
       "    .dataframe tbody tr th:only-of-type {\n",
       "        vertical-align: middle;\n",
       "    }\n",
       "\n",
       "    .dataframe tbody tr th {\n",
       "        vertical-align: top;\n",
       "    }\n",
       "\n",
       "    .dataframe thead th {\n",
       "        text-align: right;\n",
       "    }\n",
       "</style>\n",
       "<table border=\"1\" class=\"dataframe\">\n",
       "  <thead>\n",
       "    <tr style=\"text-align: right;\">\n",
       "      <th></th>\n",
       "      <th>id</th>\n",
       "      <th>label</th>\n",
       "      <th>tweet</th>\n",
       "    </tr>\n",
       "  </thead>\n",
       "  <tbody>\n",
       "    <tr>\n",
       "      <th>0</th>\n",
       "      <td>1</td>\n",
       "      <td>0</td>\n",
       "      <td>#fingerprint #Pregnancy Test https://goo.gl/h1...</td>\n",
       "    </tr>\n",
       "    <tr>\n",
       "      <th>1</th>\n",
       "      <td>2</td>\n",
       "      <td>0</td>\n",
       "      <td>Finally a transparant silicon case ^^ Thanks t...</td>\n",
       "    </tr>\n",
       "    <tr>\n",
       "      <th>2</th>\n",
       "      <td>3</td>\n",
       "      <td>0</td>\n",
       "      <td>We love this! Would you go? #talk #makememorie...</td>\n",
       "    </tr>\n",
       "    <tr>\n",
       "      <th>3</th>\n",
       "      <td>4</td>\n",
       "      <td>0</td>\n",
       "      <td>I'm wired I know I'm George I was made that wa...</td>\n",
       "    </tr>\n",
       "    <tr>\n",
       "      <th>4</th>\n",
       "      <td>5</td>\n",
       "      <td>1</td>\n",
       "      <td>What amazing service! Apple won't even talk to...</td>\n",
       "    </tr>\n",
       "  </tbody>\n",
       "</table>\n",
       "</div>"
      ],
      "text/plain": [
       "   id  label                                              tweet\n",
       "0   1      0  #fingerprint #Pregnancy Test https://goo.gl/h1...\n",
       "1   2      0  Finally a transparant silicon case ^^ Thanks t...\n",
       "2   3      0  We love this! Would you go? #talk #makememorie...\n",
       "3   4      0  I'm wired I know I'm George I was made that wa...\n",
       "4   5      1  What amazing service! Apple won't even talk to..."
      ]
     },
     "execution_count": 7,
     "metadata": {},
     "output_type": "execute_result"
    }
   ],
   "source": [
    "data.head()"
   ]
  },
  {
   "cell_type": "code",
   "execution_count": null,
   "id": "71bd59a5-00c8-4065-9b9c-e5e74e3ba13f",
   "metadata": {},
   "outputs": [],
   "source": [
    "## Data Preprocessing"
   ]
  },
  {
   "cell_type": "code",
   "execution_count": 4,
   "id": "ab1bc386-78e2-40b3-96e5-2304cc662fc5",
   "metadata": {},
   "outputs": [
    {
     "data": {
      "text/plain": [
       "(7920, 3)"
      ]
     },
     "execution_count": 4,
     "metadata": {},
     "output_type": "execute_result"
    }
   ],
   "source": [
    "data.shape\n"
   ]
  },
  {
   "cell_type": "code",
   "execution_count": 5,
   "id": "36794788-8eeb-495a-a811-abbfc14e9bd2",
   "metadata": {},
   "outputs": [
    {
     "data": {
      "text/plain": [
       "np.int64(0)"
      ]
     },
     "execution_count": 5,
     "metadata": {},
     "output_type": "execute_result"
    }
   ],
   "source": [
    "data.duplicated().sum()"
   ]
  },
  {
   "cell_type": "code",
   "execution_count": 9,
   "id": "362eef89-7f78-4144-838e-e712f6df5322",
   "metadata": {},
   "outputs": [
    {
     "data": {
      "text/plain": [
       "id       0\n",
       "label    0\n",
       "tweet    0\n",
       "dtype: int64"
      ]
     },
     "execution_count": 9,
     "metadata": {},
     "output_type": "execute_result"
    }
   ],
   "source": [
    "data.isnull().sum()"
   ]
  },
  {
   "cell_type": "code",
   "execution_count": null,
   "id": "d0d8f0a1-ab43-46af-8c50-62a1b20c00a3",
   "metadata": {},
   "outputs": [],
   "source": [
    "## Text Preprocessing"
   ]
  },
  {
   "cell_type": "code",
   "execution_count": 10,
   "id": "b1ce043c-f2b5-4f38-8d82-d8e8afe184e2",
   "metadata": {},
   "outputs": [],
   "source": [
    "import re\n",
    "import string"
   ]
  },
  {
   "cell_type": "markdown",
   "id": "bdae8168-83f6-48a2-aa7e-1fc03dee0e65",
   "metadata": {},
   "source": [
    "convert uppercase to lowercase"
   ]
  },
  {
   "cell_type": "code",
   "execution_count": 11,
   "id": "a6e9d59e-83d9-492d-8e57-dc4fa3a5c571",
   "metadata": {},
   "outputs": [
    {
     "data": {
      "text/plain": [
       "0    #fingerprint #Pregnancy Test https://goo.gl/h1...\n",
       "1    Finally a transparant silicon case ^^ Thanks t...\n",
       "2    We love this! Would you go? #talk #makememorie...\n",
       "3    I'm wired I know I'm George I was made that wa...\n",
       "4    What amazing service! Apple won't even talk to...\n",
       "Name: tweet, dtype: object"
      ]
     },
     "execution_count": 11,
     "metadata": {},
     "output_type": "execute_result"
    }
   ],
   "source": [
    "data[\"tweet\"].head(5)"
   ]
  },
  {
   "cell_type": "code",
   "execution_count": 17,
   "id": "9d20533b-7553-4e1e-86fc-4ccde0a99a3c",
   "metadata": {},
   "outputs": [],
   "source": [
    "data[\"tweet\"] = data[\"tweet\"].apply(lambda x: \" \".join(x.lower() for x in x.split()))"
   ]
  },
  {
   "cell_type": "code",
   "execution_count": 18,
   "id": "d4d272c1-0fdd-4108-843b-2d7f29cdeb8b",
   "metadata": {},
   "outputs": [
    {
     "data": {
      "text/plain": [
       "0    #fingerprint #pregnancy test https://goo.gl/h1...\n",
       "1    finally a transparant silicon case ^^ thanks t...\n",
       "2    we love this! would you go? #talk #makememorie...\n",
       "3    i'm wired i know i'm george i was made that wa...\n",
       "4    what amazing service! apple won't even talk to...\n",
       "Name: tweet, dtype: object"
      ]
     },
     "execution_count": 18,
     "metadata": {},
     "output_type": "execute_result"
    }
   ],
   "source": [
    "data[\"tweet\"].head(5)"
   ]
  },
  {
   "cell_type": "markdown",
   "id": "fbb2fed9-5845-495b-bf10-0e2bd96e408a",
   "metadata": {},
   "source": [
    "Remove links"
   ]
  },
  {
   "cell_type": "code",
   "execution_count": 33,
   "id": "e13e5473-57a5-4fbf-ad90-ea1f43a0ee6d",
   "metadata": {},
   "outputs": [],
   "source": [
    "URL_PATTERN = r'https?://\\S+|www\\.\\S+' \n",
    "\n",
    "data[\"tweet\"] = data['tweet'].apply(lambda x: re.sub(URL_PATTERN, '', x, flags=re.IGNORECASE))"
   ]
  },
  {
   "cell_type": "code",
   "execution_count": 34,
   "id": "000047a1-4df1-4e94-8ff0-f4c802bbde5d",
   "metadata": {},
   "outputs": [
    {
     "data": {
      "text/plain": [
       "0    #fingerprint #pregnancy test  #android #apps #...\n",
       "1    finally a transparant silicon case ^^ thanks t...\n",
       "2    we love this! would you go? #talk #makememorie...\n",
       "3    i'm wired i know i'm george i was made that wa...\n",
       "4    what amazing service! apple won't even talk to...\n",
       "Name: tweet, dtype: object"
      ]
     },
     "execution_count": 34,
     "metadata": {},
     "output_type": "execute_result"
    }
   ],
   "source": [
    "data[\"tweet\"].head(5)"
   ]
  },
  {
   "cell_type": "markdown",
   "id": "255eab0b-3480-4185-9dbd-1335a17451a1",
   "metadata": {},
   "source": [
    "Remove punctuation\n"
   ]
  },
  {
   "cell_type": "code",
   "execution_count": 35,
   "id": "f9f20871-4dd3-4d45-b1c3-5aba763c5f51",
   "metadata": {},
   "outputs": [],
   "source": [
    "PUNCTUATION_CHARS = string.punctuation\n",
    "def remove_punctuation(text):\n",
    "    translator = str.maketrans('', '', PUNCTUATION_CHARS)\n",
    "    return text.translate(translator)\n",
    "    \n",
    "data['tweet'] = data['tweet'].apply(remove_punctuation)\n",
    "data['tweet'] = data['tweet'].apply(lambda x: re.sub(r'\\s+', ' ', x).strip())"
   ]
  },
  {
   "cell_type": "code",
   "execution_count": 36,
   "id": "c1a184e4-21a9-4407-8ab4-3efdf463c24d",
   "metadata": {},
   "outputs": [
    {
     "data": {
      "text/plain": [
       "0    fingerprint pregnancy test android apps beauti...\n",
       "1    finally a transparant silicon case thanks to m...\n",
       "2    we love this would you go talk makememories un...\n",
       "3    im wired i know im george i was made that way ...\n",
       "4    what amazing service apple wont even talk to m...\n",
       "Name: tweet, dtype: object"
      ]
     },
     "execution_count": 36,
     "metadata": {},
     "output_type": "execute_result"
    }
   ],
   "source": [
    "data[\"tweet\"].head(5)"
   ]
  },
  {
   "cell_type": "markdown",
   "id": "c7f63f6c-58e7-4ca6-b217-3766e42f2273",
   "metadata": {},
   "source": [
    "Remove Numbers"
   ]
  },
  {
   "cell_type": "code",
   "execution_count": 40,
   "id": "95b6d231-510d-42ea-8353-2e867b7be131",
   "metadata": {},
   "outputs": [],
   "source": [
    "data[\"tweet\"] = data[\"tweet\"].str.replace(r'\\d+' , '' , regex=True)"
   ]
  },
  {
   "cell_type": "code",
   "execution_count": 41,
   "id": "efd539bb-bbc1-494f-97fe-dbc5c57046c1",
   "metadata": {},
   "outputs": [
    {
     "data": {
      "text/plain": [
       "7910    perfect match instagood applewatch red instagr...\n",
       "7911    i am completely in love with the new iphone em...\n",
       "7912    tune in turn on drop out gtd in one app mobile...\n",
       "7913    ok so my galaxy crashed after one day now i ha...\n",
       "7914    gain followers rt this must follow me i follow...\n",
       "7915    live out loud lol liveoutloud selfie smile son...\n",
       "7916    we would like to wish you an amazing day make ...\n",
       "7917    helping my lovely  year old neighbor with her ...\n",
       "7918    finally got my smart pocket wifi stay connecte...\n",
       "7919    apple barcelona apple store bcn barcelona trav...\n",
       "Name: tweet, dtype: object"
      ]
     },
     "execution_count": 41,
     "metadata": {},
     "output_type": "execute_result"
    }
   ],
   "source": [
    "data[\"tweet\"].tail(10)"
   ]
  },
  {
   "cell_type": "markdown",
   "id": "2af67766-bc78-4b86-8758-4f14a5a16c2f",
   "metadata": {},
   "source": [
    "Remove Stopwords"
   ]
  },
  {
   "cell_type": "code",
   "execution_count": 42,
   "id": "6ce65abb-c9da-468e-b77c-f1f92e200bff",
   "metadata": {},
   "outputs": [
    {
     "name": "stdout",
     "output_type": "stream",
     "text": [
      "Collecting nltk\n",
      "  Downloading nltk-3.9.2-py3-none-any.whl.metadata (3.2 kB)\n",
      "Collecting click (from nltk)\n",
      "  Downloading click-8.3.0-py3-none-any.whl.metadata (2.6 kB)\n",
      "Collecting joblib (from nltk)\n",
      "  Downloading joblib-1.5.2-py3-none-any.whl.metadata (5.6 kB)\n",
      "Collecting regex>=2021.8.3 (from nltk)\n",
      "  Downloading regex-2025.9.18-cp312-cp312-win_amd64.whl.metadata (41 kB)\n",
      "Requirement already satisfied: tqdm in c:\\users\\acer\\desktop\\sentiment_analysis_project\\env\\lib\\site-packages (from nltk) (4.67.1)\n",
      "Requirement already satisfied: colorama in c:\\users\\acer\\desktop\\sentiment_analysis_project\\env\\lib\\site-packages (from click->nltk) (0.4.6)\n",
      "Downloading nltk-3.9.2-py3-none-any.whl (1.5 MB)\n",
      "   ---------------------------------------- 0.0/1.5 MB ? eta -:--:--\n",
      "   ---------------------------------------- 0.0/1.5 MB ? eta -:--:--\n",
      "   ------ --------------------------------- 0.3/1.5 MB ? eta -:--:--\n",
      "   ------ --------------------------------- 0.3/1.5 MB ? eta -:--:--\n",
      "   ------------- -------------------------- 0.5/1.5 MB 1.1 MB/s eta 0:00:01\n",
      "   --------------------------- ------------ 1.0/1.5 MB 1.4 MB/s eta 0:00:01\n",
      "   ---------------------------------- ----- 1.3/1.5 MB 1.2 MB/s eta 0:00:01\n",
      "   ---------------------------------------- 1.5/1.5 MB 1.3 MB/s  0:00:01\n",
      "Downloading regex-2025.9.18-cp312-cp312-win_amd64.whl (275 kB)\n",
      "Downloading click-8.3.0-py3-none-any.whl (107 kB)\n",
      "Downloading joblib-1.5.2-py3-none-any.whl (308 kB)\n",
      "Installing collected packages: regex, joblib, click, nltk\n",
      "\n",
      "   ---------------------------------------- 0/4 [regex]\n",
      "   ---------------------------------------- 0/4 [regex]\n",
      "   ---------- ----------------------------- 1/4 [joblib]\n",
      "   ---------- ----------------------------- 1/4 [joblib]\n",
      "   ---------- ----------------------------- 1/4 [joblib]\n",
      "   ---------- ----------------------------- 1/4 [joblib]\n",
      "   ---------- ----------------------------- 1/4 [joblib]\n",
      "   ---------- ----------------------------- 1/4 [joblib]\n",
      "   ---------- ----------------------------- 1/4 [joblib]\n",
      "   ---------- ----------------------------- 1/4 [joblib]\n",
      "   ---------- ----------------------------- 1/4 [joblib]\n",
      "   ---------- ----------------------------- 1/4 [joblib]\n",
      "   ---------- ----------------------------- 1/4 [joblib]\n",
      "   ---------- ----------------------------- 1/4 [joblib]\n",
      "   -------------------- ------------------- 2/4 [click]\n",
      "   -------------------- ------------------- 2/4 [click]\n",
      "   -------------------- ------------------- 2/4 [click]\n",
      "   -------------------- ------------------- 2/4 [click]\n",
      "   -------------------- ------------------- 2/4 [click]\n",
      "   ------------------------------ --------- 3/4 [nltk]\n",
      "   ------------------------------ --------- 3/4 [nltk]\n",
      "   ------------------------------ --------- 3/4 [nltk]\n",
      "   ------------------------------ --------- 3/4 [nltk]\n",
      "   ------------------------------ --------- 3/4 [nltk]\n",
      "   ------------------------------ --------- 3/4 [nltk]\n",
      "   ------------------------------ --------- 3/4 [nltk]\n",
      "   ------------------------------ --------- 3/4 [nltk]\n",
      "   ------------------------------ --------- 3/4 [nltk]\n",
      "   ------------------------------ --------- 3/4 [nltk]\n",
      "   ------------------------------ --------- 3/4 [nltk]\n",
      "   ------------------------------ --------- 3/4 [nltk]\n",
      "   ------------------------------ --------- 3/4 [nltk]\n",
      "   ------------------------------ --------- 3/4 [nltk]\n",
      "   ------------------------------ --------- 3/4 [nltk]\n",
      "   ------------------------------ --------- 3/4 [nltk]\n",
      "   ------------------------------ --------- 3/4 [nltk]\n",
      "   ------------------------------ --------- 3/4 [nltk]\n",
      "   ------------------------------ --------- 3/4 [nltk]\n",
      "   ------------------------------ --------- 3/4 [nltk]\n",
      "   ------------------------------ --------- 3/4 [nltk]\n",
      "   ------------------------------ --------- 3/4 [nltk]\n",
      "   ------------------------------ --------- 3/4 [nltk]\n",
      "   ------------------------------ --------- 3/4 [nltk]\n",
      "   ------------------------------ --------- 3/4 [nltk]\n",
      "   ------------------------------ --------- 3/4 [nltk]\n",
      "   ------------------------------ --------- 3/4 [nltk]\n",
      "   ------------------------------ --------- 3/4 [nltk]\n",
      "   ------------------------------ --------- 3/4 [nltk]\n",
      "   ------------------------------ --------- 3/4 [nltk]\n",
      "   ------------------------------ --------- 3/4 [nltk]\n",
      "   ------------------------------ --------- 3/4 [nltk]\n",
      "   ------------------------------ --------- 3/4 [nltk]\n",
      "   ------------------------------ --------- 3/4 [nltk]\n",
      "   ------------------------------ --------- 3/4 [nltk]\n",
      "   ------------------------------ --------- 3/4 [nltk]\n",
      "   ------------------------------ --------- 3/4 [nltk]\n",
      "   ------------------------------ --------- 3/4 [nltk]\n",
      "   ------------------------------ --------- 3/4 [nltk]\n",
      "   ------------------------------ --------- 3/4 [nltk]\n",
      "   ------------------------------ --------- 3/4 [nltk]\n",
      "   ------------------------------ --------- 3/4 [nltk]\n",
      "   ------------------------------ --------- 3/4 [nltk]\n",
      "   ------------------------------ --------- 3/4 [nltk]\n",
      "   ------------------------------ --------- 3/4 [nltk]\n",
      "   ------------------------------ --------- 3/4 [nltk]\n",
      "   ------------------------------ --------- 3/4 [nltk]\n",
      "   ------------------------------ --------- 3/4 [nltk]\n",
      "   ------------------------------ --------- 3/4 [nltk]\n",
      "   ------------------------------ --------- 3/4 [nltk]\n",
      "   ------------------------------ --------- 3/4 [nltk]\n",
      "   ------------------------------ --------- 3/4 [nltk]\n",
      "   ------------------------------ --------- 3/4 [nltk]\n",
      "   ------------------------------ --------- 3/4 [nltk]\n",
      "   ------------------------------ --------- 3/4 [nltk]\n",
      "   ------------------------------ --------- 3/4 [nltk]\n",
      "   ------------------------------ --------- 3/4 [nltk]\n",
      "   ------------------------------ --------- 3/4 [nltk]\n",
      "   ------------------------------ --------- 3/4 [nltk]\n",
      "   ------------------------------ --------- 3/4 [nltk]\n",
      "   ------------------------------ --------- 3/4 [nltk]\n",
      "   ---------------------------------------- 4/4 [nltk]\n",
      "\n",
      "Successfully installed click-8.3.0 joblib-1.5.2 nltk-3.9.2 regex-2025.9.18\n",
      "Note: you may need to restart the kernel to use updated packages.\n"
     ]
    }
   ],
   "source": [
    "pip install nltk"
   ]
  },
  {
   "cell_type": "code",
   "execution_count": 43,
   "id": "e59fafa2-a37c-4dff-86a2-9b3ce056a723",
   "metadata": {},
   "outputs": [],
   "source": [
    "import nltk"
   ]
  },
  {
   "cell_type": "code",
   "execution_count": 44,
   "id": "8d3ccfa2-295f-48cf-a0d2-173e9b7334ab",
   "metadata": {},
   "outputs": [
    {
     "name": "stderr",
     "output_type": "stream",
     "text": [
      "[nltk_data] Downloading package stopwords to ../static/model...\n",
      "[nltk_data]   Unzipping corpora\\stopwords.zip.\n"
     ]
    },
    {
     "data": {
      "text/plain": [
       "True"
      ]
     },
     "execution_count": 44,
     "metadata": {},
     "output_type": "execute_result"
    }
   ],
   "source": [
    "nltk.download('stopwords',download_dir='../static/model')"
   ]
  },
  {
   "cell_type": "code",
   "execution_count": 46,
   "id": "42bf1ffb-8a5b-41a4-9526-13b24f503dcf",
   "metadata": {},
   "outputs": [],
   "source": [
    "with open('../static/model/corpora/stopwords/english', 'r')as file:\n",
    "    sw = file.read().splitlines()"
   ]
  },
  {
   "cell_type": "code",
   "execution_count": 47,
   "id": "61b01171-516f-4e83-accc-c83640ea2d03",
   "metadata": {},
   "outputs": [
    {
     "data": {
      "text/plain": [
       "['a',\n",
       " 'about',\n",
       " 'above',\n",
       " 'after',\n",
       " 'again',\n",
       " 'against',\n",
       " 'ain',\n",
       " 'all',\n",
       " 'am',\n",
       " 'an',\n",
       " 'and',\n",
       " 'any',\n",
       " 'are',\n",
       " 'aren',\n",
       " \"aren't\",\n",
       " 'as',\n",
       " 'at',\n",
       " 'be',\n",
       " 'because',\n",
       " 'been',\n",
       " 'before',\n",
       " 'being',\n",
       " 'below',\n",
       " 'between',\n",
       " 'both',\n",
       " 'but',\n",
       " 'by',\n",
       " 'can',\n",
       " 'couldn',\n",
       " \"couldn't\",\n",
       " 'd',\n",
       " 'did',\n",
       " 'didn',\n",
       " \"didn't\",\n",
       " 'do',\n",
       " 'does',\n",
       " 'doesn',\n",
       " \"doesn't\",\n",
       " 'doing',\n",
       " 'don',\n",
       " \"don't\",\n",
       " 'down',\n",
       " 'during',\n",
       " 'each',\n",
       " 'few',\n",
       " 'for',\n",
       " 'from',\n",
       " 'further',\n",
       " 'had',\n",
       " 'hadn',\n",
       " \"hadn't\",\n",
       " 'has',\n",
       " 'hasn',\n",
       " \"hasn't\",\n",
       " 'have',\n",
       " 'haven',\n",
       " \"haven't\",\n",
       " 'having',\n",
       " 'he',\n",
       " \"he'd\",\n",
       " \"he'll\",\n",
       " 'her',\n",
       " 'here',\n",
       " 'hers',\n",
       " 'herself',\n",
       " \"he's\",\n",
       " 'him',\n",
       " 'himself',\n",
       " 'his',\n",
       " 'how',\n",
       " 'i',\n",
       " \"i'd\",\n",
       " 'if',\n",
       " \"i'll\",\n",
       " \"i'm\",\n",
       " 'in',\n",
       " 'into',\n",
       " 'is',\n",
       " 'isn',\n",
       " \"isn't\",\n",
       " 'it',\n",
       " \"it'd\",\n",
       " \"it'll\",\n",
       " \"it's\",\n",
       " 'its',\n",
       " 'itself',\n",
       " \"i've\",\n",
       " 'just',\n",
       " 'll',\n",
       " 'm',\n",
       " 'ma',\n",
       " 'me',\n",
       " 'mightn',\n",
       " \"mightn't\",\n",
       " 'more',\n",
       " 'most',\n",
       " 'mustn',\n",
       " \"mustn't\",\n",
       " 'my',\n",
       " 'myself',\n",
       " 'needn',\n",
       " \"needn't\",\n",
       " 'no',\n",
       " 'nor',\n",
       " 'not',\n",
       " 'now',\n",
       " 'o',\n",
       " 'of',\n",
       " 'off',\n",
       " 'on',\n",
       " 'once',\n",
       " 'only',\n",
       " 'or',\n",
       " 'other',\n",
       " 'our',\n",
       " 'ours',\n",
       " 'ourselves',\n",
       " 'out',\n",
       " 'over',\n",
       " 'own',\n",
       " 're',\n",
       " 's',\n",
       " 'same',\n",
       " 'shan',\n",
       " \"shan't\",\n",
       " 'she',\n",
       " \"she'd\",\n",
       " \"she'll\",\n",
       " \"she's\",\n",
       " 'should',\n",
       " 'shouldn',\n",
       " \"shouldn't\",\n",
       " \"should've\",\n",
       " 'so',\n",
       " 'some',\n",
       " 'such',\n",
       " 't',\n",
       " 'than',\n",
       " 'that',\n",
       " \"that'll\",\n",
       " 'the',\n",
       " 'their',\n",
       " 'theirs',\n",
       " 'them',\n",
       " 'themselves',\n",
       " 'then',\n",
       " 'there',\n",
       " 'these',\n",
       " 'they',\n",
       " \"they'd\",\n",
       " \"they'll\",\n",
       " \"they're\",\n",
       " \"they've\",\n",
       " 'this',\n",
       " 'those',\n",
       " 'through',\n",
       " 'to',\n",
       " 'too',\n",
       " 'under',\n",
       " 'until',\n",
       " 'up',\n",
       " 've',\n",
       " 'very',\n",
       " 'was',\n",
       " 'wasn',\n",
       " \"wasn't\",\n",
       " 'we',\n",
       " \"we'd\",\n",
       " \"we'll\",\n",
       " \"we're\",\n",
       " 'were',\n",
       " 'weren',\n",
       " \"weren't\",\n",
       " \"we've\",\n",
       " 'what',\n",
       " 'when',\n",
       " 'where',\n",
       " 'which',\n",
       " 'while',\n",
       " 'who',\n",
       " 'whom',\n",
       " 'why',\n",
       " 'will',\n",
       " 'with',\n",
       " 'won',\n",
       " \"won't\",\n",
       " 'wouldn',\n",
       " \"wouldn't\",\n",
       " 'y',\n",
       " 'you',\n",
       " \"you'd\",\n",
       " \"you'll\",\n",
       " 'your',\n",
       " \"you're\",\n",
       " 'yours',\n",
       " 'yourself',\n",
       " 'yourselves',\n",
       " \"you've\"]"
      ]
     },
     "execution_count": 47,
     "metadata": {},
     "output_type": "execute_result"
    }
   ],
   "source": [
    "sw"
   ]
  },
  {
   "cell_type": "code",
   "execution_count": 48,
   "id": "398c1c8f-c9cb-4e85-a685-cb3de148db25",
   "metadata": {},
   "outputs": [],
   "source": [
    "data[\"tweet\"] = data[\"tweet\"].apply(lambda x: \" \".join(x for x in x.split() if x not in sw))"
   ]
  },
  {
   "cell_type": "code",
   "execution_count": 49,
   "id": "0af52cd1-4ccc-4a5d-83cc-153093944b87",
   "metadata": {},
   "outputs": [
    {
     "data": {
      "text/plain": [
       "0    fingerprint pregnancy test android apps beauti...\n",
       "1    finally transparant silicon case thanks uncle ...\n",
       "2    love would go talk makememories unplug relax i...\n",
       "3    im wired know im george made way iphone cute d...\n",
       "4    amazing service apple wont even talk question ...\n",
       "Name: tweet, dtype: object"
      ]
     },
     "execution_count": 49,
     "metadata": {},
     "output_type": "execute_result"
    }
   ],
   "source": [
    "data[\"tweet\"].head(5)"
   ]
  },
  {
   "cell_type": "markdown",
   "id": "8b5f0282-06e6-4e6b-b895-c81460470d1d",
   "metadata": {},
   "source": [
    "Stemming"
   ]
  },
  {
   "cell_type": "code",
   "execution_count": 50,
   "id": "802e59e6-face-4159-ac29-1a97c61ab5cf",
   "metadata": {},
   "outputs": [],
   "source": [
    "from nltk.stem import PorterStemmer\n",
    "ps = PorterStemmer()"
   ]
  },
  {
   "cell_type": "code",
   "execution_count": 51,
   "id": "097508e9-9e8c-4def-8c5a-fd2f72c068c5",
   "metadata": {},
   "outputs": [],
   "source": [
    "data[\"tweet\"] = data[\"tweet\"].apply(lambda x: \" \".join(ps.stem(x) for x in x.split()))"
   ]
  },
  {
   "cell_type": "code",
   "execution_count": 52,
   "id": "09b0e6ab-19ad-407d-b9d3-4b08f96179a9",
   "metadata": {},
   "outputs": [
    {
     "data": {
      "text/plain": [
       "0    fingerprint pregnanc test android app beauti c...\n",
       "1    final transpar silicon case thank uncl yay son...\n",
       "2    love would go talk makememori unplug relax iph...\n",
       "3    im wire know im georg made way iphon cute dave...\n",
       "4    amaz servic appl wont even talk question unles...\n",
       "Name: tweet, dtype: object"
      ]
     },
     "execution_count": 52,
     "metadata": {},
     "output_type": "execute_result"
    }
   ],
   "source": [
    "data[\"tweet\"].head(5)"
   ]
  },
  {
   "cell_type": "markdown",
   "id": "4389c882-125e-4688-a99b-1a801e26ee49",
   "metadata": {},
   "source": [
    "Buildiing Vocabulary"
   ]
  },
  {
   "cell_type": "code",
   "execution_count": 10,
   "id": "98eb4483-4cdd-4740-9bf5-902a3ec6c961",
   "metadata": {},
   "outputs": [],
   "source": [
    "from collections import Counter\n",
    "vocab = Counter()"
   ]
  },
  {
   "cell_type": "code",
   "execution_count": 11,
   "id": "66b2b774-b08d-4f26-befa-3b5553bf2058",
   "metadata": {},
   "outputs": [],
   "source": [
    "for sentence in data['tweet']:\n",
    "    vocab.update(sentence.split())"
   ]
  },
  {
   "cell_type": "code",
   "execution_count": 12,
   "id": "7766beb6-6ac3-4748-bcaa-77ce385e8248",
   "metadata": {},
   "outputs": [
    {
     "data": {
      "text/plain": [
       "1401"
      ]
     },
     "execution_count": 12,
     "metadata": {},
     "output_type": "execute_result"
    }
   ],
   "source": [
    "tokens = [key for key in vocab if vocab[key]>10]\n",
    "vocab\n",
    "len(vocab)\n",
    "len(tokens)"
   ]
  },
  {
   "cell_type": "code",
   "execution_count": 13,
   "id": "3ca3c122-b62d-4dbc-ac73-e8121db3ba04",
   "metadata": {},
   "outputs": [],
   "source": [
    "def save_vocabulary(lines , filename):\n",
    "    data= '\\n'.join(lines)\n",
    "    file = open(filename , 'w',encoding=\"utf-8\")\n",
    "    file.write(data)\n",
    "    file.close()\n",
    "\n",
    "save_vocabulary(tokens,'../static/model/vocabulary.txt')    "
   ]
  },
  {
   "cell_type": "markdown",
   "id": "c6e94362-b28d-4936-9c95-20bae410082c",
   "metadata": {},
   "source": [
    "Split dataset"
   ]
  },
  {
   "cell_type": "code",
   "execution_count": 79,
   "id": "ead6d37e-4948-4cd3-ba50-874ac1b2e436",
   "metadata": {},
   "outputs": [
    {
     "name": "stdout",
     "output_type": "stream",
     "text": [
      "Collecting scikit-learn\n",
      "  Downloading scikit_learn-1.7.2-cp312-cp312-win_amd64.whl.metadata (11 kB)\n",
      "Requirement already satisfied: numpy>=1.22.0 in c:\\users\\acer\\desktop\\sentiment_analysis_project\\env\\lib\\site-packages (from scikit-learn) (2.3.4)\n",
      "Collecting scipy>=1.8.0 (from scikit-learn)\n",
      "  Downloading scipy-1.16.2-cp312-cp312-win_amd64.whl.metadata (60 kB)\n",
      "Requirement already satisfied: joblib>=1.2.0 in c:\\users\\acer\\desktop\\sentiment_analysis_project\\env\\lib\\site-packages (from scikit-learn) (1.5.2)\n",
      "Collecting threadpoolctl>=3.1.0 (from scikit-learn)\n",
      "  Downloading threadpoolctl-3.6.0-py3-none-any.whl.metadata (13 kB)\n",
      "Downloading scikit_learn-1.7.2-cp312-cp312-win_amd64.whl (8.7 MB)\n",
      "   ---------------------------------------- 0.0/8.7 MB ? eta -:--:--\n",
      "   ---------------------------------------- 0.0/8.7 MB ? eta -:--:--\n",
      "   ---------------------------------------- 0.0/8.7 MB ? eta -:--:--\n",
      "   - -------------------------------------- 0.3/8.7 MB ? eta -:--:--\n",
      "   --- ------------------------------------ 0.8/8.7 MB 1.5 MB/s eta 0:00:06\n",
      "   ------ --------------------------------- 1.3/8.7 MB 1.9 MB/s eta 0:00:04\n",
      "   ------------ --------------------------- 2.6/8.7 MB 3.0 MB/s eta 0:00:03\n",
      "   ------------- -------------------------- 2.9/8.7 MB 3.2 MB/s eta 0:00:02\n",
      "   ------------- -------------------------- 2.9/8.7 MB 3.2 MB/s eta 0:00:02\n",
      "   ------------- -------------------------- 2.9/8.7 MB 3.2 MB/s eta 0:00:02\n",
      "   ------------- -------------------------- 2.9/8.7 MB 3.2 MB/s eta 0:00:02\n",
      "   ------------- -------------------------- 2.9/8.7 MB 3.2 MB/s eta 0:00:02\n",
      "   -------------- ------------------------- 3.1/8.7 MB 1.5 MB/s eta 0:00:04\n",
      "   -------------- ------------------------- 3.1/8.7 MB 1.5 MB/s eta 0:00:04\n",
      "   -------------- ------------------------- 3.1/8.7 MB 1.5 MB/s eta 0:00:04\n",
      "   --------------- ------------------------ 3.4/8.7 MB 1.2 MB/s eta 0:00:05\n",
      "   --------------- ------------------------ 3.4/8.7 MB 1.2 MB/s eta 0:00:05\n",
      "   ---------------- ----------------------- 3.7/8.7 MB 1.2 MB/s eta 0:00:05\n",
      "   ------------------ --------------------- 3.9/8.7 MB 1.1 MB/s eta 0:00:05\n",
      "   ------------------ --------------------- 3.9/8.7 MB 1.1 MB/s eta 0:00:05\n",
      "   ------------------- -------------------- 4.2/8.7 MB 1.1 MB/s eta 0:00:05\n",
      "   -------------------- ------------------- 4.5/8.7 MB 1.1 MB/s eta 0:00:04\n",
      "   --------------------- ------------------ 4.7/8.7 MB 1.1 MB/s eta 0:00:04\n",
      "   --------------------- ------------------ 4.7/8.7 MB 1.1 MB/s eta 0:00:04\n",
      "   ---------------------- ----------------- 5.0/8.7 MB 1.1 MB/s eta 0:00:04\n",
      "   ---------------------- ----------------- 5.0/8.7 MB 1.1 MB/s eta 0:00:04\n",
      "   --------------------------- ------------ 6.0/8.7 MB 1.2 MB/s eta 0:00:03\n",
      "   -------------------------------- ------- 7.1/8.7 MB 1.3 MB/s eta 0:00:02\n",
      "   -------------------------------- ------- 7.1/8.7 MB 1.3 MB/s eta 0:00:02\n",
      "   -------------------------------- ------- 7.1/8.7 MB 1.3 MB/s eta 0:00:02\n",
      "   --------------------------------- ------ 7.3/8.7 MB 1.2 MB/s eta 0:00:02\n",
      "   --------------------------------- ------ 7.3/8.7 MB 1.2 MB/s eta 0:00:02\n",
      "   --------------------------------- ------ 7.3/8.7 MB 1.2 MB/s eta 0:00:02\n",
      "   ---------------------------------- ----- 7.6/8.7 MB 1.2 MB/s eta 0:00:01\n",
      "   ---------------------------------- ----- 7.6/8.7 MB 1.2 MB/s eta 0:00:01\n",
      "   ---------------------------------- ----- 7.6/8.7 MB 1.2 MB/s eta 0:00:01\n",
      "   ------------------------------------ --- 7.9/8.7 MB 1.1 MB/s eta 0:00:01\n",
      "   ------------------------------------ --- 7.9/8.7 MB 1.1 MB/s eta 0:00:01\n",
      "   ------------------------------------ --- 7.9/8.7 MB 1.1 MB/s eta 0:00:01\n",
      "   ------------------------------------- -- 8.1/8.7 MB 1.0 MB/s eta 0:00:01\n",
      "   ------------------------------------- -- 8.1/8.7 MB 1.0 MB/s eta 0:00:01\n",
      "   ------------------------------------- -- 8.1/8.7 MB 1.0 MB/s eta 0:00:01\n",
      "   ------------------------------------- -- 8.1/8.7 MB 1.0 MB/s eta 0:00:01\n",
      "   -------------------------------------- - 8.4/8.7 MB 970.3 kB/s eta 0:00:01\n",
      "   -------------------------------------- - 8.4/8.7 MB 970.3 kB/s eta 0:00:01\n",
      "   -------------------------------------- - 8.4/8.7 MB 970.3 kB/s eta 0:00:01\n",
      "   -------------------------------------- - 8.4/8.7 MB 970.3 kB/s eta 0:00:01\n",
      "   ---------------------------------------- 8.7/8.7 MB 914.0 kB/s  0:00:09\n",
      "Downloading scipy-1.16.2-cp312-cp312-win_amd64.whl (38.6 MB)\n",
      "   ---------------------------------------- 0.0/38.6 MB ? eta -:--:--\n",
      "    --------------------------------------- 0.8/38.6 MB 4.2 MB/s eta 0:00:10\n",
      "   - -------------------------------------- 1.8/38.6 MB 4.4 MB/s eta 0:00:09\n",
      "   -- ------------------------------------- 2.4/38.6 MB 4.3 MB/s eta 0:00:09\n",
      "   -- ------------------------------------- 2.6/38.6 MB 4.0 MB/s eta 0:00:10\n",
      "   -- ------------------------------------- 2.6/38.6 MB 4.0 MB/s eta 0:00:10\n",
      "   -- ------------------------------------- 2.9/38.6 MB 2.2 MB/s eta 0:00:16\n",
      "   -- ------------------------------------- 2.9/38.6 MB 2.2 MB/s eta 0:00:16\n",
      "   --- ------------------------------------ 3.1/38.6 MB 1.9 MB/s eta 0:00:19\n",
      "   --- ------------------------------------ 3.1/38.6 MB 1.9 MB/s eta 0:00:19\n",
      "   --- ------------------------------------ 3.4/38.6 MB 1.7 MB/s eta 0:00:21\n",
      "   --- ------------------------------------ 3.7/38.6 MB 1.6 MB/s eta 0:00:23\n",
      "   --- ------------------------------------ 3.7/38.6 MB 1.6 MB/s eta 0:00:23\n",
      "   ---- ----------------------------------- 3.9/38.6 MB 1.5 MB/s eta 0:00:24\n",
      "   ---- ----------------------------------- 4.5/38.6 MB 1.5 MB/s eta 0:00:23\n",
      "   ----- ---------------------------------- 5.0/38.6 MB 1.6 MB/s eta 0:00:22\n",
      "   ----- ---------------------------------- 5.0/38.6 MB 1.6 MB/s eta 0:00:22\n",
      "   ----- ---------------------------------- 5.0/38.6 MB 1.6 MB/s eta 0:00:22\n",
      "   ----- ---------------------------------- 5.2/38.6 MB 1.4 MB/s eta 0:00:25\n",
      "   ----- ---------------------------------- 5.5/38.6 MB 1.4 MB/s eta 0:00:25\n",
      "   ----- ---------------------------------- 5.5/38.6 MB 1.4 MB/s eta 0:00:25\n",
      "   ----- ---------------------------------- 5.8/38.6 MB 1.3 MB/s eta 0:00:26\n",
      "   ----- ---------------------------------- 5.8/38.6 MB 1.3 MB/s eta 0:00:26\n",
      "   ----- ---------------------------------- 5.8/38.6 MB 1.3 MB/s eta 0:00:26\n",
      "   ------ --------------------------------- 6.3/38.6 MB 1.2 MB/s eta 0:00:27\n",
      "   ------ --------------------------------- 6.6/38.6 MB 1.3 MB/s eta 0:00:26\n",
      "   ------- -------------------------------- 7.1/38.6 MB 1.3 MB/s eta 0:00:25\n",
      "   ------- -------------------------------- 7.1/38.6 MB 1.3 MB/s eta 0:00:25\n",
      "   ------- -------------------------------- 7.3/38.6 MB 1.2 MB/s eta 0:00:26\n",
      "   ------- -------------------------------- 7.6/38.6 MB 1.3 MB/s eta 0:00:25\n",
      "   -------- ------------------------------- 7.9/38.6 MB 1.2 MB/s eta 0:00:25\n",
      "   -------- ------------------------------- 8.1/38.6 MB 1.2 MB/s eta 0:00:25\n",
      "   -------- ------------------------------- 8.4/38.6 MB 1.3 MB/s eta 0:00:25\n",
      "   -------- ------------------------------- 8.4/38.6 MB 1.3 MB/s eta 0:00:25\n",
      "   -------- ------------------------------- 8.4/38.6 MB 1.3 MB/s eta 0:00:25\n",
      "   -------- ------------------------------- 8.7/38.6 MB 1.2 MB/s eta 0:00:26\n",
      "   --------- ------------------------------ 8.9/38.6 MB 1.2 MB/s eta 0:00:25\n",
      "   --------- ------------------------------ 8.9/38.6 MB 1.2 MB/s eta 0:00:25\n",
      "   --------- ------------------------------ 8.9/38.6 MB 1.2 MB/s eta 0:00:25\n",
      "   --------- ------------------------------ 9.2/38.6 MB 1.1 MB/s eta 0:00:27\n",
      "   --------- ------------------------------ 9.2/38.6 MB 1.1 MB/s eta 0:00:27\n",
      "   --------- ------------------------------ 9.4/38.6 MB 1.1 MB/s eta 0:00:27\n",
      "   ---------- ----------------------------- 9.7/38.6 MB 1.1 MB/s eta 0:00:26\n",
      "   ---------- ----------------------------- 10.0/38.6 MB 1.1 MB/s eta 0:00:26\n",
      "   ---------- ----------------------------- 10.2/38.6 MB 1.1 MB/s eta 0:00:26\n",
      "   ---------- ----------------------------- 10.2/38.6 MB 1.1 MB/s eta 0:00:26\n",
      "   ---------- ----------------------------- 10.5/38.6 MB 1.1 MB/s eta 0:00:26\n",
      "   ----------- ---------------------------- 10.7/38.6 MB 1.1 MB/s eta 0:00:26\n",
      "   ----------- ---------------------------- 11.0/38.6 MB 1.1 MB/s eta 0:00:25\n",
      "   ----------- ---------------------------- 11.3/38.6 MB 1.1 MB/s eta 0:00:25\n",
      "   ----------- ---------------------------- 11.5/38.6 MB 1.1 MB/s eta 0:00:25\n",
      "   ------------ --------------------------- 11.8/38.6 MB 1.1 MB/s eta 0:00:25\n",
      "   ------------ --------------------------- 12.1/38.6 MB 1.1 MB/s eta 0:00:24\n",
      "   ------------ --------------------------- 12.3/38.6 MB 1.1 MB/s eta 0:00:24\n",
      "   ------------- -------------------------- 12.6/38.6 MB 1.1 MB/s eta 0:00:24\n",
      "   ------------- -------------------------- 12.8/38.6 MB 1.1 MB/s eta 0:00:24\n",
      "   ------------- -------------------------- 12.8/38.6 MB 1.1 MB/s eta 0:00:24\n",
      "   ------------- -------------------------- 13.1/38.6 MB 1.1 MB/s eta 0:00:23\n",
      "   ------------- -------------------------- 13.4/38.6 MB 1.1 MB/s eta 0:00:23\n",
      "   -------------- ------------------------- 13.6/38.6 MB 1.1 MB/s eta 0:00:23\n",
      "   -------------- ------------------------- 13.9/38.6 MB 1.1 MB/s eta 0:00:23\n",
      "   -------------- ------------------------- 14.2/38.6 MB 1.1 MB/s eta 0:00:22\n",
      "   -------------- ------------------------- 14.4/38.6 MB 1.1 MB/s eta 0:00:22\n",
      "   --------------- ------------------------ 14.7/38.6 MB 1.1 MB/s eta 0:00:22\n",
      "   --------------- ------------------------ 14.9/38.6 MB 1.1 MB/s eta 0:00:21\n",
      "   --------------- ------------------------ 15.2/38.6 MB 1.1 MB/s eta 0:00:21\n",
      "   ---------------- ----------------------- 15.5/38.6 MB 1.1 MB/s eta 0:00:21\n",
      "   ---------------- ----------------------- 15.5/38.6 MB 1.1 MB/s eta 0:00:21\n",
      "   ---------------- ----------------------- 15.7/38.6 MB 1.1 MB/s eta 0:00:21\n",
      "   ---------------- ----------------------- 16.0/38.6 MB 1.1 MB/s eta 0:00:21\n",
      "   ---------------- ----------------------- 16.0/38.6 MB 1.1 MB/s eta 0:00:21\n",
      "   ---------------- ----------------------- 16.3/38.6 MB 1.1 MB/s eta 0:00:21\n",
      "   ----------------- ---------------------- 16.5/38.6 MB 1.1 MB/s eta 0:00:20\n",
      "   ----------------- ---------------------- 16.5/38.6 MB 1.1 MB/s eta 0:00:20\n",
      "   ----------------- ---------------------- 16.8/38.6 MB 1.1 MB/s eta 0:00:20\n",
      "   ----------------- ---------------------- 17.0/38.6 MB 1.1 MB/s eta 0:00:20\n",
      "   ----------------- ---------------------- 17.0/38.6 MB 1.1 MB/s eta 0:00:20\n",
      "   ----------------- ---------------------- 17.3/38.6 MB 1.1 MB/s eta 0:00:20\n",
      "   ------------------ --------------------- 17.6/38.6 MB 1.1 MB/s eta 0:00:20\n",
      "   ------------------ --------------------- 17.8/38.6 MB 1.1 MB/s eta 0:00:20\n",
      "   ------------------ --------------------- 18.1/38.6 MB 1.1 MB/s eta 0:00:19\n",
      "   ------------------- -------------------- 18.4/38.6 MB 1.1 MB/s eta 0:00:19\n",
      "   ------------------- -------------------- 18.4/38.6 MB 1.1 MB/s eta 0:00:19\n",
      "   ------------------- -------------------- 18.6/38.6 MB 1.1 MB/s eta 0:00:19\n",
      "   ------------------- -------------------- 19.1/38.6 MB 1.1 MB/s eta 0:00:18\n",
      "   ------------------- -------------------- 19.1/38.6 MB 1.1 MB/s eta 0:00:18\n",
      "   -------------------- ------------------- 19.7/38.6 MB 1.1 MB/s eta 0:00:18\n",
      "   -------------------- ------------------- 19.7/38.6 MB 1.1 MB/s eta 0:00:18\n",
      "   -------------------- ------------------- 19.9/38.6 MB 1.1 MB/s eta 0:00:18\n",
      "   -------------------- ------------------- 20.2/38.6 MB 1.1 MB/s eta 0:00:17\n",
      "   --------------------- ------------------ 20.4/38.6 MB 1.1 MB/s eta 0:00:17\n",
      "   --------------------- ------------------ 20.7/38.6 MB 1.1 MB/s eta 0:00:17\n",
      "   --------------------- ------------------ 21.0/38.6 MB 1.1 MB/s eta 0:00:16\n",
      "   ---------------------- ----------------- 21.2/38.6 MB 1.1 MB/s eta 0:00:16\n",
      "   ---------------------- ----------------- 21.5/38.6 MB 1.1 MB/s eta 0:00:16\n",
      "   ---------------------- ----------------- 21.5/38.6 MB 1.1 MB/s eta 0:00:16\n",
      "   ---------------------- ----------------- 21.8/38.6 MB 1.1 MB/s eta 0:00:16\n",
      "   ---------------------- ----------------- 22.0/38.6 MB 1.1 MB/s eta 0:00:16\n",
      "   ----------------------- ---------------- 22.3/38.6 MB 1.1 MB/s eta 0:00:15\n",
      "   ----------------------- ---------------- 22.5/38.6 MB 1.1 MB/s eta 0:00:15\n",
      "   ----------------------- ---------------- 22.8/38.6 MB 1.1 MB/s eta 0:00:15\n",
      "   ----------------------- ---------------- 22.8/38.6 MB 1.1 MB/s eta 0:00:15\n",
      "   ----------------------- ---------------- 23.1/38.6 MB 1.1 MB/s eta 0:00:15\n",
      "   ------------------------ --------------- 23.3/38.6 MB 1.1 MB/s eta 0:00:14\n",
      "   ------------------------ --------------- 23.6/38.6 MB 1.1 MB/s eta 0:00:14\n",
      "   ------------------------ --------------- 23.9/38.6 MB 1.1 MB/s eta 0:00:14\n",
      "   ------------------------- -------------- 24.1/38.6 MB 1.1 MB/s eta 0:00:14\n",
      "   ------------------------- -------------- 24.4/38.6 MB 1.1 MB/s eta 0:00:13\n",
      "   ------------------------- -------------- 24.6/38.6 MB 1.1 MB/s eta 0:00:13\n",
      "   ------------------------- -------------- 24.9/38.6 MB 1.1 MB/s eta 0:00:13\n",
      "   ------------------------- -------------- 24.9/38.6 MB 1.1 MB/s eta 0:00:13\n",
      "   ------------------------- -------------- 24.9/38.6 MB 1.1 MB/s eta 0:00:13\n",
      "   -------------------------- ------------- 25.4/38.6 MB 1.1 MB/s eta 0:00:13\n",
      "   -------------------------- ------------- 25.4/38.6 MB 1.1 MB/s eta 0:00:13\n",
      "   -------------------------- ------------- 25.7/38.6 MB 1.1 MB/s eta 0:00:12\n",
      "   -------------------------- ------------- 26.0/38.6 MB 1.1 MB/s eta 0:00:12\n",
      "   --------------------------- ------------ 26.2/38.6 MB 1.1 MB/s eta 0:00:12\n",
      "   --------------------------- ------------ 26.2/38.6 MB 1.1 MB/s eta 0:00:12\n",
      "   --------------------------- ------------ 26.5/38.6 MB 1.1 MB/s eta 0:00:12\n",
      "   --------------------------- ------------ 26.7/38.6 MB 1.1 MB/s eta 0:00:11\n",
      "   --------------------------- ------------ 26.7/38.6 MB 1.1 MB/s eta 0:00:11\n",
      "   ---------------------------- ----------- 27.0/38.6 MB 1.1 MB/s eta 0:00:11\n",
      "   ---------------------------- ----------- 27.3/38.6 MB 1.1 MB/s eta 0:00:11\n",
      "   ---------------------------- ----------- 27.5/38.6 MB 1.1 MB/s eta 0:00:11\n",
      "   ---------------------------- ----------- 27.8/38.6 MB 1.1 MB/s eta 0:00:11\n",
      "   ---------------------------- ----------- 27.8/38.6 MB 1.1 MB/s eta 0:00:11\n",
      "   ----------------------------- ---------- 28.0/38.6 MB 1.1 MB/s eta 0:00:10\n",
      "   ----------------------------- ---------- 28.3/38.6 MB 1.1 MB/s eta 0:00:10\n",
      "   ----------------------------- ---------- 28.6/38.6 MB 1.1 MB/s eta 0:00:10\n",
      "   ----------------------------- ---------- 28.6/38.6 MB 1.1 MB/s eta 0:00:10\n",
      "   ----------------------------- ---------- 28.8/38.6 MB 1.1 MB/s eta 0:00:10\n",
      "   ------------------------------ --------- 29.1/38.6 MB 1.1 MB/s eta 0:00:09\n",
      "   ------------------------------ --------- 29.4/38.6 MB 1.1 MB/s eta 0:00:09\n",
      "   ------------------------------ --------- 29.6/38.6 MB 1.1 MB/s eta 0:00:09\n",
      "   ------------------------------ --------- 29.6/38.6 MB 1.1 MB/s eta 0:00:09\n",
      "   ------------------------------- -------- 29.9/38.6 MB 1.1 MB/s eta 0:00:09\n",
      "   ------------------------------- -------- 30.1/38.6 MB 1.1 MB/s eta 0:00:08\n",
      "   ------------------------------- -------- 30.4/38.6 MB 1.1 MB/s eta 0:00:08\n",
      "   ------------------------------- -------- 30.4/38.6 MB 1.1 MB/s eta 0:00:08\n",
      "   ------------------------------- -------- 30.7/38.6 MB 1.1 MB/s eta 0:00:08\n",
      "   -------------------------------- ------- 30.9/38.6 MB 1.1 MB/s eta 0:00:08\n",
      "   -------------------------------- ------- 30.9/38.6 MB 1.1 MB/s eta 0:00:08\n",
      "   -------------------------------- ------- 31.2/38.6 MB 1.1 MB/s eta 0:00:07\n",
      "   -------------------------------- ------- 31.5/38.6 MB 1.1 MB/s eta 0:00:07\n",
      "   -------------------------------- ------- 31.5/38.6 MB 1.1 MB/s eta 0:00:07\n",
      "   -------------------------------- ------- 31.7/38.6 MB 1.1 MB/s eta 0:00:07\n",
      "   --------------------------------- ------ 32.0/38.6 MB 1.0 MB/s eta 0:00:07\n",
      "   --------------------------------- ------ 32.0/38.6 MB 1.0 MB/s eta 0:00:07\n",
      "   --------------------------------- ------ 32.2/38.6 MB 1.0 MB/s eta 0:00:07\n",
      "   --------------------------------- ------ 32.5/38.6 MB 1.0 MB/s eta 0:00:07\n",
      "   --------------------------------- ------ 32.5/38.6 MB 1.0 MB/s eta 0:00:07\n",
      "   --------------------------------- ------ 32.8/38.6 MB 1.0 MB/s eta 0:00:06\n",
      "   ---------------------------------- ----- 33.0/38.6 MB 1.0 MB/s eta 0:00:06\n",
      "   ---------------------------------- ----- 33.3/38.6 MB 1.0 MB/s eta 0:00:06\n",
      "   ---------------------------------- ----- 33.6/38.6 MB 1.0 MB/s eta 0:00:05\n",
      "   ----------------------------------- ---- 33.8/38.6 MB 1.0 MB/s eta 0:00:05\n",
      "   ----------------------------------- ---- 34.1/38.6 MB 1.0 MB/s eta 0:00:05\n",
      "   ----------------------------------- ---- 34.3/38.6 MB 1.0 MB/s eta 0:00:05\n",
      "   ----------------------------------- ---- 34.6/38.6 MB 1.0 MB/s eta 0:00:04\n",
      "   ----------------------------------- ---- 34.6/38.6 MB 1.0 MB/s eta 0:00:04\n",
      "   ----------------------------------- ---- 34.6/38.6 MB 1.0 MB/s eta 0:00:04\n",
      "   ------------------------------------ --- 34.9/38.6 MB 999.9 kB/s eta 0:00:04\n",
      "   ------------------------------------ --- 35.1/38.6 MB 1.0 MB/s eta 0:00:04\n",
      "   ------------------------------------ --- 35.1/38.6 MB 1.0 MB/s eta 0:00:04\n",
      "   ------------------------------------ --- 35.4/38.6 MB 1.0 MB/s eta 0:00:04\n",
      "   ------------------------------------ --- 35.7/38.6 MB 1.0 MB/s eta 0:00:03\n",
      "   ------------------------------------- -- 35.9/38.6 MB 1.0 MB/s eta 0:00:03\n",
      "   ------------------------------------- -- 36.2/38.6 MB 1.0 MB/s eta 0:00:03\n",
      "   ------------------------------------- -- 36.2/38.6 MB 1.0 MB/s eta 0:00:03\n",
      "   ------------------------------------- -- 36.4/38.6 MB 1.0 MB/s eta 0:00:03\n",
      "   -------------------------------------- - 36.7/38.6 MB 1.0 MB/s eta 0:00:02\n",
      "   -------------------------------------- - 37.0/38.6 MB 998.2 kB/s eta 0:00:02\n",
      "   -------------------------------------- - 37.2/38.6 MB 1.0 MB/s eta 0:00:02\n",
      "   -------------------------------------- - 37.5/38.6 MB 1.0 MB/s eta 0:00:02\n",
      "   ---------------------------------------  37.7/38.6 MB 1.0 MB/s eta 0:00:01\n",
      "   ---------------------------------------  38.0/38.6 MB 1.0 MB/s eta 0:00:01\n",
      "   ---------------------------------------  38.3/38.6 MB 1.0 MB/s eta 0:00:01\n",
      "   ---------------------------------------  38.5/38.6 MB 1.0 MB/s eta 0:00:01\n",
      "   ---------------------------------------- 38.6/38.6 MB 1.0 MB/s  0:00:36\n",
      "Downloading threadpoolctl-3.6.0-py3-none-any.whl (18 kB)\n",
      "Installing collected packages: threadpoolctl, scipy, scikit-learn\n",
      "\n",
      "   ------------- -------------------------- 1/3 [scipy]\n",
      "   ------------- -------------------------- 1/3 [scipy]\n",
      "   ------------- -------------------------- 1/3 [scipy]\n",
      "   ------------- -------------------------- 1/3 [scipy]\n",
      "   ------------- -------------------------- 1/3 [scipy]\n",
      "   ------------- -------------------------- 1/3 [scipy]\n",
      "   ------------- -------------------------- 1/3 [scipy]\n",
      "   ------------- -------------------------- 1/3 [scipy]\n",
      "   ------------- -------------------------- 1/3 [scipy]\n",
      "   ------------- -------------------------- 1/3 [scipy]\n",
      "   ------------- -------------------------- 1/3 [scipy]\n",
      "   ------------- -------------------------- 1/3 [scipy]\n",
      "   ------------- -------------------------- 1/3 [scipy]\n",
      "   ------------- -------------------------- 1/3 [scipy]\n",
      "   ------------- -------------------------- 1/3 [scipy]\n",
      "   ------------- -------------------------- 1/3 [scipy]\n",
      "   ------------- -------------------------- 1/3 [scipy]\n",
      "   ------------- -------------------------- 1/3 [scipy]\n",
      "   ------------- -------------------------- 1/3 [scipy]\n",
      "   ------------- -------------------------- 1/3 [scipy]\n",
      "   ------------- -------------------------- 1/3 [scipy]\n",
      "   ------------- -------------------------- 1/3 [scipy]\n",
      "   ------------- -------------------------- 1/3 [scipy]\n",
      "   ------------- -------------------------- 1/3 [scipy]\n",
      "   ------------- -------------------------- 1/3 [scipy]\n",
      "   ------------- -------------------------- 1/3 [scipy]\n",
      "   ------------- -------------------------- 1/3 [scipy]\n",
      "   ------------- -------------------------- 1/3 [scipy]\n",
      "   ------------- -------------------------- 1/3 [scipy]\n",
      "   ------------- -------------------------- 1/3 [scipy]\n",
      "   ------------- -------------------------- 1/3 [scipy]\n",
      "   ------------- -------------------------- 1/3 [scipy]\n",
      "   ------------- -------------------------- 1/3 [scipy]\n",
      "   ------------- -------------------------- 1/3 [scipy]\n",
      "   ------------- -------------------------- 1/3 [scipy]\n",
      "   ------------- -------------------------- 1/3 [scipy]\n",
      "   ------------- -------------------------- 1/3 [scipy]\n",
      "   ------------- -------------------------- 1/3 [scipy]\n",
      "   ------------- -------------------------- 1/3 [scipy]\n",
      "   ------------- -------------------------- 1/3 [scipy]\n",
      "   ------------- -------------------------- 1/3 [scipy]\n",
      "   ------------- -------------------------- 1/3 [scipy]\n",
      "   ------------- -------------------------- 1/3 [scipy]\n",
      "   ------------- -------------------------- 1/3 [scipy]\n",
      "   ------------- -------------------------- 1/3 [scipy]\n",
      "   ------------- -------------------------- 1/3 [scipy]\n",
      "   ------------- -------------------------- 1/3 [scipy]\n",
      "   ------------- -------------------------- 1/3 [scipy]\n",
      "   ------------- -------------------------- 1/3 [scipy]\n",
      "   ------------- -------------------------- 1/3 [scipy]\n",
      "   ------------- -------------------------- 1/3 [scipy]\n",
      "   ------------- -------------------------- 1/3 [scipy]\n",
      "   ------------- -------------------------- 1/3 [scipy]\n",
      "   ------------- -------------------------- 1/3 [scipy]\n",
      "   ------------- -------------------------- 1/3 [scipy]\n",
      "   ------------- -------------------------- 1/3 [scipy]\n",
      "   ------------- -------------------------- 1/3 [scipy]\n",
      "   ------------- -------------------------- 1/3 [scipy]\n",
      "   ------------- -------------------------- 1/3 [scipy]\n",
      "   ------------- -------------------------- 1/3 [scipy]\n",
      "   ------------- -------------------------- 1/3 [scipy]\n",
      "   ------------- -------------------------- 1/3 [scipy]\n",
      "   ------------- -------------------------- 1/3 [scipy]\n",
      "   ------------- -------------------------- 1/3 [scipy]\n",
      "   ------------- -------------------------- 1/3 [scipy]\n",
      "   ------------- -------------------------- 1/3 [scipy]\n",
      "   ------------- -------------------------- 1/3 [scipy]\n",
      "   ------------- -------------------------- 1/3 [scipy]\n",
      "   ------------- -------------------------- 1/3 [scipy]\n",
      "   ------------- -------------------------- 1/3 [scipy]\n",
      "   ------------- -------------------------- 1/3 [scipy]\n",
      "   ------------- -------------------------- 1/3 [scipy]\n",
      "   ------------- -------------------------- 1/3 [scipy]\n",
      "   ------------- -------------------------- 1/3 [scipy]\n",
      "   ------------- -------------------------- 1/3 [scipy]\n",
      "   ------------- -------------------------- 1/3 [scipy]\n",
      "   ------------- -------------------------- 1/3 [scipy]\n",
      "   ------------- -------------------------- 1/3 [scipy]\n",
      "   ------------- -------------------------- 1/3 [scipy]\n",
      "   ------------- -------------------------- 1/3 [scipy]\n",
      "   ------------- -------------------------- 1/3 [scipy]\n",
      "   ------------- -------------------------- 1/3 [scipy]\n",
      "   ------------- -------------------------- 1/3 [scipy]\n",
      "   ------------- -------------------------- 1/3 [scipy]\n",
      "   ------------- -------------------------- 1/3 [scipy]\n",
      "   ------------- -------------------------- 1/3 [scipy]\n",
      "   ------------- -------------------------- 1/3 [scipy]\n",
      "   ------------- -------------------------- 1/3 [scipy]\n",
      "   ------------- -------------------------- 1/3 [scipy]\n",
      "   ------------- -------------------------- 1/3 [scipy]\n",
      "   ------------- -------------------------- 1/3 [scipy]\n",
      "   ------------- -------------------------- 1/3 [scipy]\n",
      "   ------------- -------------------------- 1/3 [scipy]\n",
      "   ------------- -------------------------- 1/3 [scipy]\n",
      "   ------------- -------------------------- 1/3 [scipy]\n",
      "   ------------- -------------------------- 1/3 [scipy]\n",
      "   ------------- -------------------------- 1/3 [scipy]\n",
      "   ------------- -------------------------- 1/3 [scipy]\n",
      "   ------------- -------------------------- 1/3 [scipy]\n",
      "   ------------- -------------------------- 1/3 [scipy]\n",
      "   ------------- -------------------------- 1/3 [scipy]\n",
      "   ------------- -------------------------- 1/3 [scipy]\n",
      "   ------------- -------------------------- 1/3 [scipy]\n",
      "   ------------- -------------------------- 1/3 [scipy]\n",
      "   ------------- -------------------------- 1/3 [scipy]\n",
      "   ------------- -------------------------- 1/3 [scipy]\n",
      "   ------------- -------------------------- 1/3 [scipy]\n",
      "   ------------- -------------------------- 1/3 [scipy]\n",
      "   ------------- -------------------------- 1/3 [scipy]\n",
      "   ------------- -------------------------- 1/3 [scipy]\n",
      "   ------------- -------------------------- 1/3 [scipy]\n",
      "   ------------- -------------------------- 1/3 [scipy]\n",
      "   ------------- -------------------------- 1/3 [scipy]\n",
      "   ------------- -------------------------- 1/3 [scipy]\n",
      "   ------------- -------------------------- 1/3 [scipy]\n",
      "   ------------- -------------------------- 1/3 [scipy]\n",
      "   ------------- -------------------------- 1/3 [scipy]\n",
      "   ------------- -------------------------- 1/3 [scipy]\n",
      "   ------------- -------------------------- 1/3 [scipy]\n",
      "   ------------- -------------------------- 1/3 [scipy]\n",
      "   ------------- -------------------------- 1/3 [scipy]\n",
      "   ------------- -------------------------- 1/3 [scipy]\n",
      "   ------------- -------------------------- 1/3 [scipy]\n",
      "   ------------- -------------------------- 1/3 [scipy]\n",
      "   ------------- -------------------------- 1/3 [scipy]\n",
      "   ------------- -------------------------- 1/3 [scipy]\n",
      "   ------------- -------------------------- 1/3 [scipy]\n",
      "   ------------- -------------------------- 1/3 [scipy]\n",
      "   ------------- -------------------------- 1/3 [scipy]\n",
      "   ------------- -------------------------- 1/3 [scipy]\n",
      "   ------------- -------------------------- 1/3 [scipy]\n",
      "   ------------- -------------------------- 1/3 [scipy]\n",
      "   ------------- -------------------------- 1/3 [scipy]\n",
      "   ------------- -------------------------- 1/3 [scipy]\n",
      "   ------------- -------------------------- 1/3 [scipy]\n",
      "   ------------- -------------------------- 1/3 [scipy]\n",
      "   ------------- -------------------------- 1/3 [scipy]\n",
      "   ------------- -------------------------- 1/3 [scipy]\n",
      "   ------------- -------------------------- 1/3 [scipy]\n",
      "   ------------- -------------------------- 1/3 [scipy]\n",
      "   ------------- -------------------------- 1/3 [scipy]\n",
      "   ------------- -------------------------- 1/3 [scipy]\n",
      "   ------------- -------------------------- 1/3 [scipy]\n",
      "   ------------- -------------------------- 1/3 [scipy]\n",
      "   ------------- -------------------------- 1/3 [scipy]\n",
      "   ------------- -------------------------- 1/3 [scipy]\n",
      "   ------------- -------------------------- 1/3 [scipy]\n",
      "   ------------- -------------------------- 1/3 [scipy]\n",
      "   ------------- -------------------------- 1/3 [scipy]\n",
      "   ------------- -------------------------- 1/3 [scipy]\n",
      "   ------------- -------------------------- 1/3 [scipy]\n",
      "   ------------- -------------------------- 1/3 [scipy]\n",
      "   ------------- -------------------------- 1/3 [scipy]\n",
      "   ------------- -------------------------- 1/3 [scipy]\n",
      "   ------------- -------------------------- 1/3 [scipy]\n",
      "   ------------- -------------------------- 1/3 [scipy]\n",
      "   ------------- -------------------------- 1/3 [scipy]\n",
      "   ------------- -------------------------- 1/3 [scipy]\n",
      "   ------------- -------------------------- 1/3 [scipy]\n",
      "   ------------- -------------------------- 1/3 [scipy]\n",
      "   ------------- -------------------------- 1/3 [scipy]\n",
      "   ------------- -------------------------- 1/3 [scipy]\n",
      "   ------------- -------------------------- 1/3 [scipy]\n",
      "   ------------- -------------------------- 1/3 [scipy]\n",
      "   ------------- -------------------------- 1/3 [scipy]\n",
      "   ------------- -------------------------- 1/3 [scipy]\n",
      "   ------------- -------------------------- 1/3 [scipy]\n",
      "   ------------- -------------------------- 1/3 [scipy]\n",
      "   ------------- -------------------------- 1/3 [scipy]\n",
      "   ------------- -------------------------- 1/3 [scipy]\n",
      "   ------------- -------------------------- 1/3 [scipy]\n",
      "   ------------- -------------------------- 1/3 [scipy]\n",
      "   ------------- -------------------------- 1/3 [scipy]\n",
      "   ------------- -------------------------- 1/3 [scipy]\n",
      "   ------------- -------------------------- 1/3 [scipy]\n",
      "   ------------- -------------------------- 1/3 [scipy]\n",
      "   ------------- -------------------------- 1/3 [scipy]\n",
      "   ------------- -------------------------- 1/3 [scipy]\n",
      "   ------------- -------------------------- 1/3 [scipy]\n",
      "   ------------- -------------------------- 1/3 [scipy]\n",
      "   ------------- -------------------------- 1/3 [scipy]\n",
      "   ------------- -------------------------- 1/3 [scipy]\n",
      "   ------------- -------------------------- 1/3 [scipy]\n",
      "   ------------- -------------------------- 1/3 [scipy]\n",
      "   ------------- -------------------------- 1/3 [scipy]\n",
      "   ------------- -------------------------- 1/3 [scipy]\n",
      "   ------------- -------------------------- 1/3 [scipy]\n",
      "   ------------- -------------------------- 1/3 [scipy]\n",
      "   ------------- -------------------------- 1/3 [scipy]\n",
      "   ------------- -------------------------- 1/3 [scipy]\n",
      "   ------------- -------------------------- 1/3 [scipy]\n",
      "   ------------- -------------------------- 1/3 [scipy]\n",
      "   ------------- -------------------------- 1/3 [scipy]\n",
      "   ------------- -------------------------- 1/3 [scipy]\n",
      "   ------------- -------------------------- 1/3 [scipy]\n",
      "   ------------- -------------------------- 1/3 [scipy]\n",
      "   ------------- -------------------------- 1/3 [scipy]\n",
      "   ------------- -------------------------- 1/3 [scipy]\n",
      "   ------------- -------------------------- 1/3 [scipy]\n",
      "   ------------- -------------------------- 1/3 [scipy]\n",
      "   ------------- -------------------------- 1/3 [scipy]\n",
      "   ------------- -------------------------- 1/3 [scipy]\n",
      "   ------------- -------------------------- 1/3 [scipy]\n",
      "   ------------- -------------------------- 1/3 [scipy]\n",
      "   -------------------------- ------------- 2/3 [scikit-learn]\n",
      "   -------------------------- ------------- 2/3 [scikit-learn]\n",
      "   -------------------------- ------------- 2/3 [scikit-learn]\n",
      "   -------------------------- ------------- 2/3 [scikit-learn]\n",
      "   -------------------------- ------------- 2/3 [scikit-learn]\n",
      "   -------------------------- ------------- 2/3 [scikit-learn]\n",
      "   -------------------------- ------------- 2/3 [scikit-learn]\n",
      "   -------------------------- ------------- 2/3 [scikit-learn]\n",
      "   -------------------------- ------------- 2/3 [scikit-learn]\n",
      "   -------------------------- ------------- 2/3 [scikit-learn]\n",
      "   -------------------------- ------------- 2/3 [scikit-learn]\n",
      "   -------------------------- ------------- 2/3 [scikit-learn]\n",
      "   -------------------------- ------------- 2/3 [scikit-learn]\n",
      "   -------------------------- ------------- 2/3 [scikit-learn]\n",
      "   -------------------------- ------------- 2/3 [scikit-learn]\n",
      "   -------------------------- ------------- 2/3 [scikit-learn]\n",
      "   -------------------------- ------------- 2/3 [scikit-learn]\n",
      "   -------------------------- ------------- 2/3 [scikit-learn]\n",
      "   -------------------------- ------------- 2/3 [scikit-learn]\n",
      "   -------------------------- ------------- 2/3 [scikit-learn]\n",
      "   -------------------------- ------------- 2/3 [scikit-learn]\n",
      "   -------------------------- ------------- 2/3 [scikit-learn]\n",
      "   -------------------------- ------------- 2/3 [scikit-learn]\n",
      "   -------------------------- ------------- 2/3 [scikit-learn]\n",
      "   -------------------------- ------------- 2/3 [scikit-learn]\n",
      "   -------------------------- ------------- 2/3 [scikit-learn]\n",
      "   -------------------------- ------------- 2/3 [scikit-learn]\n",
      "   -------------------------- ------------- 2/3 [scikit-learn]\n",
      "   -------------------------- ------------- 2/3 [scikit-learn]\n",
      "   -------------------------- ------------- 2/3 [scikit-learn]\n",
      "   -------------------------- ------------- 2/3 [scikit-learn]\n",
      "   -------------------------- ------------- 2/3 [scikit-learn]\n",
      "   -------------------------- ------------- 2/3 [scikit-learn]\n",
      "   -------------------------- ------------- 2/3 [scikit-learn]\n",
      "   -------------------------- ------------- 2/3 [scikit-learn]\n",
      "   -------------------------- ------------- 2/3 [scikit-learn]\n",
      "   -------------------------- ------------- 2/3 [scikit-learn]\n",
      "   -------------------------- ------------- 2/3 [scikit-learn]\n",
      "   -------------------------- ------------- 2/3 [scikit-learn]\n",
      "   -------------------------- ------------- 2/3 [scikit-learn]\n",
      "   -------------------------- ------------- 2/3 [scikit-learn]\n",
      "   -------------------------- ------------- 2/3 [scikit-learn]\n",
      "   -------------------------- ------------- 2/3 [scikit-learn]\n",
      "   -------------------------- ------------- 2/3 [scikit-learn]\n",
      "   -------------------------- ------------- 2/3 [scikit-learn]\n",
      "   -------------------------- ------------- 2/3 [scikit-learn]\n",
      "   -------------------------- ------------- 2/3 [scikit-learn]\n",
      "   -------------------------- ------------- 2/3 [scikit-learn]\n",
      "   -------------------------- ------------- 2/3 [scikit-learn]\n",
      "   -------------------------- ------------- 2/3 [scikit-learn]\n",
      "   -------------------------- ------------- 2/3 [scikit-learn]\n",
      "   -------------------------- ------------- 2/3 [scikit-learn]\n",
      "   -------------------------- ------------- 2/3 [scikit-learn]\n",
      "   -------------------------- ------------- 2/3 [scikit-learn]\n",
      "   -------------------------- ------------- 2/3 [scikit-learn]\n",
      "   -------------------------- ------------- 2/3 [scikit-learn]\n",
      "   -------------------------- ------------- 2/3 [scikit-learn]\n",
      "   -------------------------- ------------- 2/3 [scikit-learn]\n",
      "   -------------------------- ------------- 2/3 [scikit-learn]\n",
      "   -------------------------- ------------- 2/3 [scikit-learn]\n",
      "   -------------------------- ------------- 2/3 [scikit-learn]\n",
      "   -------------------------- ------------- 2/3 [scikit-learn]\n",
      "   -------------------------- ------------- 2/3 [scikit-learn]\n",
      "   -------------------------- ------------- 2/3 [scikit-learn]\n",
      "   -------------------------- ------------- 2/3 [scikit-learn]\n",
      "   -------------------------- ------------- 2/3 [scikit-learn]\n",
      "   -------------------------- ------------- 2/3 [scikit-learn]\n",
      "   -------------------------- ------------- 2/3 [scikit-learn]\n",
      "   -------------------------- ------------- 2/3 [scikit-learn]\n",
      "   -------------------------- ------------- 2/3 [scikit-learn]\n",
      "   -------------------------- ------------- 2/3 [scikit-learn]\n",
      "   -------------------------- ------------- 2/3 [scikit-learn]\n",
      "   -------------------------- ------------- 2/3 [scikit-learn]\n",
      "   -------------------------- ------------- 2/3 [scikit-learn]\n",
      "   -------------------------- ------------- 2/3 [scikit-learn]\n",
      "   -------------------------- ------------- 2/3 [scikit-learn]\n",
      "   -------------------------- ------------- 2/3 [scikit-learn]\n",
      "   -------------------------- ------------- 2/3 [scikit-learn]\n",
      "   -------------------------- ------------- 2/3 [scikit-learn]\n",
      "   -------------------------- ------------- 2/3 [scikit-learn]\n",
      "   -------------------------- ------------- 2/3 [scikit-learn]\n",
      "   -------------------------- ------------- 2/3 [scikit-learn]\n",
      "   -------------------------- ------------- 2/3 [scikit-learn]\n",
      "   -------------------------- ------------- 2/3 [scikit-learn]\n",
      "   -------------------------- ------------- 2/3 [scikit-learn]\n",
      "   -------------------------- ------------- 2/3 [scikit-learn]\n",
      "   -------------------------- ------------- 2/3 [scikit-learn]\n",
      "   -------------------------- ------------- 2/3 [scikit-learn]\n",
      "   -------------------------- ------------- 2/3 [scikit-learn]\n",
      "   -------------------------- ------------- 2/3 [scikit-learn]\n",
      "   -------------------------- ------------- 2/3 [scikit-learn]\n",
      "   -------------------------- ------------- 2/3 [scikit-learn]\n",
      "   -------------------------- ------------- 2/3 [scikit-learn]\n",
      "   -------------------------- ------------- 2/3 [scikit-learn]\n",
      "   -------------------------- ------------- 2/3 [scikit-learn]\n",
      "   -------------------------- ------------- 2/3 [scikit-learn]\n",
      "   -------------------------- ------------- 2/3 [scikit-learn]\n",
      "   -------------------------- ------------- 2/3 [scikit-learn]\n",
      "   -------------------------- ------------- 2/3 [scikit-learn]\n",
      "   -------------------------- ------------- 2/3 [scikit-learn]\n",
      "   -------------------------- ------------- 2/3 [scikit-learn]\n",
      "   -------------------------- ------------- 2/3 [scikit-learn]\n",
      "   -------------------------- ------------- 2/3 [scikit-learn]\n",
      "   -------------------------- ------------- 2/3 [scikit-learn]\n",
      "   -------------------------- ------------- 2/3 [scikit-learn]\n",
      "   -------------------------- ------------- 2/3 [scikit-learn]\n",
      "   -------------------------- ------------- 2/3 [scikit-learn]\n",
      "   -------------------------- ------------- 2/3 [scikit-learn]\n",
      "   -------------------------- ------------- 2/3 [scikit-learn]\n",
      "   -------------------------- ------------- 2/3 [scikit-learn]\n",
      "   -------------------------- ------------- 2/3 [scikit-learn]\n",
      "   -------------------------- ------------- 2/3 [scikit-learn]\n",
      "   -------------------------- ------------- 2/3 [scikit-learn]\n",
      "   -------------------------- ------------- 2/3 [scikit-learn]\n",
      "   -------------------------- ------------- 2/3 [scikit-learn]\n",
      "   -------------------------- ------------- 2/3 [scikit-learn]\n",
      "   -------------------------- ------------- 2/3 [scikit-learn]\n",
      "   -------------------------- ------------- 2/3 [scikit-learn]\n",
      "   -------------------------- ------------- 2/3 [scikit-learn]\n",
      "   -------------------------- ------------- 2/3 [scikit-learn]\n",
      "   -------------------------- ------------- 2/3 [scikit-learn]\n",
      "   -------------------------- ------------- 2/3 [scikit-learn]\n",
      "   -------------------------- ------------- 2/3 [scikit-learn]\n",
      "   -------------------------- ------------- 2/3 [scikit-learn]\n",
      "   -------------------------- ------------- 2/3 [scikit-learn]\n",
      "   -------------------------- ------------- 2/3 [scikit-learn]\n",
      "   -------------------------- ------------- 2/3 [scikit-learn]\n",
      "   -------------------------- ------------- 2/3 [scikit-learn]\n",
      "   -------------------------- ------------- 2/3 [scikit-learn]\n",
      "   -------------------------- ------------- 2/3 [scikit-learn]\n",
      "   -------------------------- ------------- 2/3 [scikit-learn]\n",
      "   -------------------------- ------------- 2/3 [scikit-learn]\n",
      "   -------------------------- ------------- 2/3 [scikit-learn]\n",
      "   -------------------------- ------------- 2/3 [scikit-learn]\n",
      "   -------------------------- ------------- 2/3 [scikit-learn]\n",
      "   -------------------------- ------------- 2/3 [scikit-learn]\n",
      "   -------------------------- ------------- 2/3 [scikit-learn]\n",
      "   -------------------------- ------------- 2/3 [scikit-learn]\n",
      "   -------------------------- ------------- 2/3 [scikit-learn]\n",
      "   -------------------------- ------------- 2/3 [scikit-learn]\n",
      "   -------------------------- ------------- 2/3 [scikit-learn]\n",
      "   -------------------------- ------------- 2/3 [scikit-learn]\n",
      "   -------------------------- ------------- 2/3 [scikit-learn]\n",
      "   ---------------------------------------- 3/3 [scikit-learn]\n",
      "\n",
      "Successfully installed scikit-learn-1.7.2 scipy-1.16.2 threadpoolctl-3.6.0\n",
      "Note: you may need to restart the kernel to use updated packages.\n"
     ]
    }
   ],
   "source": [
    "pip install scikit-learn"
   ]
  },
  {
   "cell_type": "code",
   "execution_count": 14,
   "id": "c5e3a825-49a2-4161-80c7-fa93030b1e56",
   "metadata": {},
   "outputs": [],
   "source": [
    "X = data['tweet']\n",
    "y = data['label']"
   ]
  },
  {
   "cell_type": "code",
   "execution_count": 22,
   "id": "17056469-bb50-4a92-a590-e0d2972d841f",
   "metadata": {},
   "outputs": [],
   "source": [
    "from sklearn.model_selection import train_test_split\n",
    "X_train,X_test,y_train,y_test = train_test_split(X,y,test_size=0.2)"
   ]
  },
  {
   "cell_type": "code",
   "execution_count": 20,
   "id": "ee7022d7-6234-4244-bb5f-6eb8e55d2b11",
   "metadata": {},
   "outputs": [
    {
     "data": {
      "text/plain": [
       "(1584,)"
      ]
     },
     "execution_count": 20,
     "metadata": {},
     "output_type": "execute_result"
    }
   ],
   "source": [
    "X_train.shape\n",
    "X_test.shape\n"
   ]
  },
  {
   "cell_type": "markdown",
   "id": "f8d6b6da-6c7b-4958-a255-215c4c6de57e",
   "metadata": {},
   "source": [
    "Vectorization"
   ]
  },
  {
   "cell_type": "code",
   "execution_count": 25,
   "id": "12d13341-7058-47a4-b1c7-70ea4c7c6c9d",
   "metadata": {},
   "outputs": [],
   "source": [
    "def vectorizer(ds, vocabulary):\n",
    "    # This line MUST be indented consistently (e.g., 4 spaces)\n",
    "    vectorized_lst = []\n",
    "    \n",
    "    # 1. Outer loop: Iterates over each sentence\n",
    "    for sentence in ds:\n",
    "        # Initialize an all-zero vector for the current sentence\n",
    "        sentence_lst = np.zeros(len(vocabulary))\n",
    "        \n",
    "        # 2. Inner loop: Iterates over the vocabulary\n",
    "        for i in range(len(vocabulary)):\n",
    "            # 3. Check if the vocabulary word is in the current sentence\n",
    "            if vocabulary[i] in sentence.split():\n",
    "                # FIX: Set the value at the word's index 'i' to 1\n",
    "                sentence_lst[i] = 1\n",
    "                \n",
    "        # 4. Append the completed vector ONCE after the inner loop finishes\n",
    "        vectorized_lst.append(sentence_lst)\n",
    "        \n",
    "    vectorized_lst_new = np.asarray(vectorized_lst, dtype=np.float32)\n",
    "\n",
    "    return vectorized_lst_new"
   ]
  },
  {
   "cell_type": "code",
   "execution_count": 27,
   "id": "6748eb5e-57d2-4c89-860b-dce1ccec619f",
   "metadata": {},
   "outputs": [],
   "source": [
    "vectorized_x_train = vectorizer(X_train,tokens)\n"
   ]
  },
  {
   "cell_type": "code",
   "execution_count": 28,
   "id": "255c83bc-68bb-4d78-a40d-c43a408305cf",
   "metadata": {},
   "outputs": [
    {
     "data": {
      "text/plain": [
       "array([[0., 0., 0., ..., 0., 0., 0.],\n",
       "       [0., 0., 0., ..., 0., 0., 0.],\n",
       "       [0., 0., 0., ..., 0., 0., 0.],\n",
       "       ...,\n",
       "       [0., 0., 0., ..., 0., 0., 0.],\n",
       "       [0., 0., 0., ..., 0., 0., 0.],\n",
       "       [0., 0., 0., ..., 0., 0., 0.]], shape=(6336, 1401), dtype=float32)"
      ]
     },
     "execution_count": 28,
     "metadata": {},
     "output_type": "execute_result"
    }
   ],
   "source": [
    "vectorized_x_train"
   ]
  },
  {
   "cell_type": "code",
   "execution_count": 30,
   "id": "25c838a9-39f1-42b3-bde0-87ae0a173a5e",
   "metadata": {},
   "outputs": [],
   "source": [
    "vectorized_x_test = vectorizer(X_test,tokens)\n",
    "    "
   ]
  },
  {
   "cell_type": "code",
   "execution_count": 31,
   "id": "ab93285b-8c70-4dcf-91de-dd573b773af1",
   "metadata": {},
   "outputs": [
    {
     "data": {
      "text/plain": [
       "label\n",
       "0    4719\n",
       "1    1617\n",
       "Name: count, dtype: int64"
      ]
     },
     "execution_count": 31,
     "metadata": {},
     "output_type": "execute_result"
    }
   ],
   "source": [
    "y_train.value_counts()"
   ]
  },
  {
   "cell_type": "code",
   "execution_count": 32,
   "id": "4d8abd38-b643-4cc3-b214-a2bc133fdfd7",
   "metadata": {},
   "outputs": [
    {
     "data": {
      "image/png": "[encoded data removed]",
      "text/plain": [
       "<Figure size 640x480 with 1 Axes>"
      ]
     },
     "metadata": {},
     "output_type": "display_data"
    }
   ],
   "source": [
    "plt.pie(np.array([y_train.value_counts()[0],y_train.value_counts()[1]]), labels=['Positive','Negetive'])\n",
    "plt.show()"
   ]
  },
  {
   "cell_type": "markdown",
   "id": "1f3ca0bc-f8bb-453e-b34a-3fbf38847e6f",
   "metadata": {},
   "source": [
    "Handle Imbalanced Dataset"
   ]
  },
  {
   "cell_type": "code",
   "execution_count": 34,
   "id": "7a9bb392-1183-47bd-b170-6de4ec039b44",
   "metadata": {},
   "outputs": [
    {
     "name": "stdout",
     "output_type": "stream",
     "text": [
      "Collecting imbalanced-learn\n",
      "  Downloading imbalanced_learn-0.14.0-py3-none-any.whl.metadata (8.8 kB)\n",
      "Requirement already satisfied: numpy<3,>=1.25.2 in c:\\users\\acer\\desktop\\sentiment_analysis_project\\env\\lib\\site-packages (from imbalanced-learn) (2.3.4)\n",
      "Requirement already satisfied: scipy<2,>=1.11.4 in c:\\users\\acer\\desktop\\sentiment_analysis_project\\env\\lib\\site-packages (from imbalanced-learn) (1.16.2)\n",
      "Requirement already satisfied: scikit-learn<2,>=1.4.2 in c:\\users\\acer\\desktop\\sentiment_analysis_project\\env\\lib\\site-packages (from imbalanced-learn) (1.7.2)\n",
      "Requirement already satisfied: joblib<2,>=1.2.0 in c:\\users\\acer\\desktop\\sentiment_analysis_project\\env\\lib\\site-packages (from imbalanced-learn) (1.5.2)\n",
      "Requirement already satisfied: threadpoolctl<4,>=2.0.0 in c:\\users\\acer\\desktop\\sentiment_analysis_project\\env\\lib\\site-packages (from imbalanced-learn) (3.6.0)\n",
      "Downloading imbalanced_learn-0.14.0-py3-none-any.whl (239 kB)\n",
      "Installing collected packages: imbalanced-learn\n",
      "Successfully installed imbalanced-learn-0.14.0\n",
      "Note: you may need to restart the kernel to use updated packages.\n"
     ]
    }
   ],
   "source": [
    "pip install imbalanced-learn"
   ]
  },
  {
   "cell_type": "code",
   "execution_count": 35,
   "id": "720ffd77-a3cc-40f8-b692-bc3506f0a7bd",
   "metadata": {},
   "outputs": [
    {
     "name": "stdout",
     "output_type": "stream",
     "text": [
      "(9438, 1401) (9438,)\n"
     ]
    }
   ],
   "source": [
    "from imblearn.over_sampling import SMOTE\n",
    "smote = SMOTE()\n",
    "vectorized_x_train_smote , y_train_smote = smote.fit_resample(vectorized_x_train , y_train)\n",
    "print(vectorized_x_train_smote.shape,y_train_smote.shape)"
   ]
  },
  {
   "cell_type": "code",
   "execution_count": 36,
   "id": "30b80ca1-2f55-4626-b452-72e15dd20bb5",
   "metadata": {},
   "outputs": [
    {
     "data": {
      "text/plain": [
       "label\n",
       "0    4719\n",
       "1    4719\n",
       "Name: count, dtype: int64"
      ]
     },
     "execution_count": 36,
     "metadata": {},
     "output_type": "execute_result"
    }
   ],
   "source": [
    "y_train_smote.value_counts()"
   ]
  },
  {
   "cell_type": "code",
   "execution_count": 37,
   "id": "7497acac-1190-40f9-bec7-eb34152f9bee",
   "metadata": {},
   "outputs": [
    {
     "data": {
      "text/plain": [
       "array([[0., 0., 0., ..., 0., 0., 0.],\n",
       "       [0., 0., 0., ..., 0., 0., 0.],\n",
       "       [0., 0., 0., ..., 0., 0., 0.],\n",
       "       ...,\n",
       "       [0., 0., 0., ..., 0., 0., 0.],\n",
       "       [0., 0., 0., ..., 0., 0., 0.],\n",
       "       [0., 0., 0., ..., 0., 0., 0.]], shape=(9438, 1401), dtype=float32)"
      ]
     },
     "execution_count": 37,
     "metadata": {},
     "output_type": "execute_result"
    }
   ],
   "source": [
    "vectorized_x_train_smote"
   ]
  },
  {
   "cell_type": "code",
   "execution_count": 38,
   "id": "7a923abd-9679-4afd-b767-34426f39d108",
   "metadata": {},
   "outputs": [
    {
     "data": {
      "text/plain": [
       "0       0\n",
       "1       0\n",
       "2       0\n",
       "3       0\n",
       "4       0\n",
       "       ..\n",
       "9433    1\n",
       "9434    1\n",
       "9435    1\n",
       "9436    1\n",
       "9437    1\n",
       "Name: label, Length: 9438, dtype: int64"
      ]
     },
     "execution_count": 38,
     "metadata": {},
     "output_type": "execute_result"
    }
   ],
   "source": [
    "y_train_smote"
   ]
  },
  {
   "cell_type": "code",
   "execution_count": 39,
   "id": "4c340e4f-9024-4ed5-a30f-798a326997b3",
   "metadata": {},
   "outputs": [
    {
     "data": {
      "text/plain": [
       "array([[0., 0., 0., ..., 0., 0., 0.],\n",
       "       [0., 0., 0., ..., 0., 0., 0.],\n",
       "       [0., 0., 0., ..., 0., 0., 0.],\n",
       "       ...,\n",
       "       [0., 0., 0., ..., 0., 0., 0.],\n",
       "       [0., 0., 0., ..., 0., 0., 0.],\n",
       "       [0., 0., 0., ..., 0., 0., 0.]], shape=(1584, 1401), dtype=float32)"
      ]
     },
     "execution_count": 39,
     "metadata": {},
     "output_type": "execute_result"
    }
   ],
   "source": [
    "vectorized_x_test"
   ]
  },
  {
   "cell_type": "code",
   "execution_count": 40,
   "id": "9f84e020-4cf0-473a-bf2c-770875ec9a0e",
   "metadata": {},
   "outputs": [
    {
     "data": {
      "text/plain": [
       "2075    0\n",
       "5198    0\n",
       "5437    1\n",
       "6569    0\n",
       "5056    1\n",
       "       ..\n",
       "4081    0\n",
       "3684    1\n",
       "7850    0\n",
       "6933    0\n",
       "870     0\n",
       "Name: label, Length: 1584, dtype: int64"
      ]
     },
     "execution_count": 40,
     "metadata": {},
     "output_type": "execute_result"
    }
   ],
   "source": [
    "y_test"
   ]
  },
  {
   "cell_type": "markdown",
   "id": "8f57ca25-550e-42a5-a79a-4828a124a3db",
   "metadata": {},
   "source": [
    "Model Training & Evaluation"
   ]
  },
  {
   "cell_type": "code",
   "execution_count": 44,
   "id": "16777926-fc8d-4772-9102-07f77e9a8272",
   "metadata": {},
   "outputs": [],
   "source": [
    "from sklearn.linear_model import LogisticRegression \n",
    "from sklearn.naive_bayes import MultinomialNB\n",
    "from sklearn.tree import DecisionTreeClassifier\n",
    "from sklearn.ensemble import RandomForestClassifier\n",
    "from sklearn.svm import SVC"
   ]
  },
  {
   "cell_type": "code",
   "execution_count": null,
   "id": "9bc32bb0-1e7a-4690-b740-2d16468cfb2c",
   "metadata": {},
   "outputs": [],
   "source": [
    "\n",
    "\n",
    "def training_scores(y_act,y_pred):\n",
    "    acc = round(accuracy_score(y_act,y_pred),3)\n",
    "    pr = round(precision_score(y_act,y_pred),3)\n",
    "    rec = round(recall_score(y_act,y_pred),3)\n",
    "    f1 = round(f1_score(y_act,y_pred),3)\n",
    "    print (f'Training Scores:\\n\\t Accuracy = {acc}\\n\\t Precision = {pr}\\n\\t Recall = {rec}\\n\\t F1 Score = {f1}')\n",
    "\n",
    "def validation_scores(y_act,y_pred):\n",
    "    acc = round(accuracy_score(y_act,y_pred),3)\n",
    "    pr = round(precision_score(y_act,y_pred),3)\n",
    "    rec = round(recall_score(y_act,y_pred),3)\n",
    "    f1 = round(f1_score(y_act,y_pred),3)\n",
    "    print (f'Validation Scores:\\n\\t Accuracy = {acc}\\n\\t Precision = {pr}\\n\\t Recall = {rec}\\n\\t F1 Score = {f1}')    \n",
    "    "
   ]
  }
 ],
 "metadata": {
  "kernelspec": {
   "display_name": "Python 3 (ipykernel)",
   "language": "python",
   "name": "python3"
  },
  "language_info": {
   "codemirror_mode": {
    "name": "ipython",
    "version": 3
   },
   "file_extension": ".py",
   "mimetype": "text/x-python",
   "name": "python",
   "nbconvert_exporter": "python",
   "pygments_lexer": "ipython3",
   "version": "3.12.3"
  }
 },
 "nbformat": 4,
 "nbformat_minor": 5
}
